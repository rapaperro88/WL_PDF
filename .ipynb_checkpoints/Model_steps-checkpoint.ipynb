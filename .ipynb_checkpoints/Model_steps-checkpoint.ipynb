{
 "cells": [
  {
   "cell_type": "markdown",
   "metadata": {},
   "source": [
    "# Text Similarity (LDA)\n",
    "\n",
    "Running abstract_mining.py file from the repo should produce a strucured csv with the pubmed id and the abstract for the specified number of abstracts.\n",
    "\n",
    "With this csv we will perform some standard cleaning and tokenizing operations to train a LDA model. \n",
    "\n",
    "Then, we will calculate Jensen-Shanon distance to get most similar articles to an inputed text. "
   ]
  },
  {
   "cell_type": "markdown",
   "metadata": {},
   "source": [
    "## Data Loading"
   ]
  },
  {
   "cell_type": "markdown",
   "metadata": {},
   "source": [
    "We load our data and we remove duplicates"
   ]
  },
  {
   "cell_type": "code",
   "execution_count": 1,
   "metadata": {
    "scrolled": true
   },
   "outputs": [],
   "source": [
    "# Load basic libraries\n",
    "import pandas as pd\n",
    "import numpy as np\n",
    "\n",
    "# Load raw dataset\n",
    "raw = pd.read_csv('data_mining/merged.csv')\n",
    "\n",
    "# Keep only unique elements\n",
    "mask_unique = raw.duplicated(subset=[\"abstract\"], keep='first')\n",
    "df = raw[~mask_unique].reset_index(drop=True)\n",
    "\n",
    "# Eventually we equilibrate the number of abstracts per topic\n",
    "def equilibrate_topics(df, max_per_topic):\n",
    "    # Get a df with the first elements for the first topic\n",
    "    equilibrated = df.head(max_per_topic)\n",
    "    # Append to that df the other elements for the other topics\n",
    "    for topic in df[\"topic\"].unique()[1:]:\n",
    "        equilibrated = pd.concat([equilibrated, \n",
    "                                 df[df[\"topic\"]==topic].head(max_per_topic)], \n",
    "                                 axis=0, \n",
    "                                 ignore_index=True)\n",
    "    return equilibrated.reset_index(drop=True)\n",
    "equilibrated = equilibrate_topics(df, 1000)"
   ]
  },
  {
   "cell_type": "code",
   "execution_count": 2,
   "metadata": {
    "scrolled": true
   },
   "outputs": [
    {
     "data": {
      "text/html": [
       "<div>\n",
       "<style scoped>\n",
       "    .dataframe tbody tr th:only-of-type {\n",
       "        vertical-align: middle;\n",
       "    }\n",
       "\n",
       "    .dataframe tbody tr th {\n",
       "        vertical-align: top;\n",
       "    }\n",
       "\n",
       "    .dataframe thead th {\n",
       "        text-align: right;\n",
       "    }\n",
       "</style>\n",
       "<table border=\"1\" class=\"dataframe\">\n",
       "  <thead>\n",
       "    <tr style=\"text-align: right;\">\n",
       "      <th></th>\n",
       "      <th>pubmed_id</th>\n",
       "      <th>abstract</th>\n",
       "      <th>topic</th>\n",
       "    </tr>\n",
       "  </thead>\n",
       "  <tbody>\n",
       "    <tr>\n",
       "      <th>0</th>\n",
       "      <td>7544188</td>\n",
       "      <td>\"Rebound\" phenomenon of hepatitis C viremia af...</td>\n",
       "      <td>Gene therapy</td>\n",
       "    </tr>\n",
       "    <tr>\n",
       "      <th>1</th>\n",
       "      <td>7543681</td>\n",
       "      <td>Probing the transmembrane topology of cyclic n...</td>\n",
       "      <td>Gene therapy</td>\n",
       "    </tr>\n",
       "    <tr>\n",
       "      <th>2</th>\n",
       "      <td>7543632</td>\n",
       "      <td>Autolymphocyte therapy. III. Effective adjuvan...</td>\n",
       "      <td>Gene therapy</td>\n",
       "    </tr>\n",
       "    <tr>\n",
       "      <th>3</th>\n",
       "      <td>7543577</td>\n",
       "      <td>Syntheses, calcium channel agonist-antagonist ...</td>\n",
       "      <td>Gene therapy</td>\n",
       "    </tr>\n",
       "    <tr>\n",
       "      <th>4</th>\n",
       "      <td>7543499</td>\n",
       "      <td>Unexpected dystonia while changing from clozap...</td>\n",
       "      <td>Gene therapy</td>\n",
       "    </tr>\n",
       "    <tr>\n",
       "      <th>...</th>\n",
       "      <td>...</td>\n",
       "      <td>...</td>\n",
       "      <td>...</td>\n",
       "    </tr>\n",
       "    <tr>\n",
       "      <th>29276</th>\n",
       "      <td>7107327</td>\n",
       "      <td>The cellular specificity of lectin binding in ...</td>\n",
       "      <td>Post-translational modification</td>\n",
       "    </tr>\n",
       "    <tr>\n",
       "      <th>29277</th>\n",
       "      <td>7107225</td>\n",
       "      <td>Effect of tauroursodeoxycholic acid on patient...</td>\n",
       "      <td>Post-translational modification</td>\n",
       "    </tr>\n",
       "    <tr>\n",
       "      <th>29278</th>\n",
       "      <td>7104049</td>\n",
       "      <td>The effect of various modifiers on rat microso...</td>\n",
       "      <td>Post-translational modification</td>\n",
       "    </tr>\n",
       "    <tr>\n",
       "      <th>29279</th>\n",
       "      <td>7104039</td>\n",
       "      <td>Inhibition of methemoglobin and metmyoglobin r...</td>\n",
       "      <td>Post-translational modification</td>\n",
       "    </tr>\n",
       "    <tr>\n",
       "      <th>29280</th>\n",
       "      <td>7102989</td>\n",
       "      <td>[Aneurysms of the cerebral vessels and pregnan...</td>\n",
       "      <td>Post-translational modification</td>\n",
       "    </tr>\n",
       "  </tbody>\n",
       "</table>\n",
       "<p>29281 rows × 3 columns</p>\n",
       "</div>"
      ],
      "text/plain": [
       "       pubmed_id                                           abstract  \\\n",
       "0        7544188  \"Rebound\" phenomenon of hepatitis C viremia af...   \n",
       "1        7543681  Probing the transmembrane topology of cyclic n...   \n",
       "2        7543632  Autolymphocyte therapy. III. Effective adjuvan...   \n",
       "3        7543577  Syntheses, calcium channel agonist-antagonist ...   \n",
       "4        7543499  Unexpected dystonia while changing from clozap...   \n",
       "...          ...                                                ...   \n",
       "29276    7107327  The cellular specificity of lectin binding in ...   \n",
       "29277    7107225  Effect of tauroursodeoxycholic acid on patient...   \n",
       "29278    7104049  The effect of various modifiers on rat microso...   \n",
       "29279    7104039  Inhibition of methemoglobin and metmyoglobin r...   \n",
       "29280    7102989  [Aneurysms of the cerebral vessels and pregnan...   \n",
       "\n",
       "                                 topic  \n",
       "0                         Gene therapy  \n",
       "1                         Gene therapy  \n",
       "2                         Gene therapy  \n",
       "3                         Gene therapy  \n",
       "4                         Gene therapy  \n",
       "...                                ...  \n",
       "29276  Post-translational modification  \n",
       "29277  Post-translational modification  \n",
       "29278  Post-translational modification  \n",
       "29279  Post-translational modification  \n",
       "29280  Post-translational modification  \n",
       "\n",
       "[29281 rows x 3 columns]"
      ]
     },
     "execution_count": 2,
     "metadata": {},
     "output_type": "execute_result"
    }
   ],
   "source": [
    "# Let's check the result\n",
    "df"
   ]
  },
  {
   "cell_type": "markdown",
   "metadata": {},
   "source": [
    "Check number of abstracts per topic for each dataframe"
   ]
  },
  {
   "cell_type": "code",
   "execution_count": 3,
   "metadata": {},
   "outputs": [
    {
     "name": "stdout",
     "output_type": "stream",
     "text": [
      "df size:  (29281, 3)\n",
      "4994  unique abstracts for:  Gene therapy\n",
      "4303  unique abstracts for:  Immunology\n",
      "4341  unique abstracts for:  Genome engineering\n",
      "3537  unique abstracts for:  Regulatory element\n",
      "2770  unique abstracts for:  Sequence\n",
      "2669  unique abstracts for:  Transfection\n",
      "3866  unique abstracts for:  Epigenetics\n",
      "2801  unique abstracts for:  Post-translational modification\n",
      "\n",
      "equilibrated size:  (8000, 3)\n",
      "1000  unique abstracts for:  Gene therapy\n",
      "1000  unique abstracts for:  Immunology\n",
      "1000  unique abstracts for:  Genome engineering\n",
      "1000  unique abstracts for:  Regulatory element\n",
      "1000  unique abstracts for:  Sequence\n",
      "1000  unique abstracts for:  Transfection\n",
      "1000  unique abstracts for:  Epigenetics\n",
      "1000  unique abstracts for:  Post-translational modification\n"
     ]
    }
   ],
   "source": [
    "def get_abstracts_per_topic(df):\n",
    "    for topic in df[\"topic\"].unique():\n",
    "        print(df[df[\"topic\"]==topic].shape[0], \" unique abstracts for: \", topic)\n",
    "\n",
    "print(\"df size: \", df.shape)\n",
    "get_abstracts_per_topic(df)\n",
    "    \n",
    "print(\"\\nequilibrated size: \", equilibrated.shape)\n",
    "get_abstracts_per_topic(equilibrated)"
   ]
  },
  {
   "cell_type": "markdown",
   "metadata": {},
   "source": [
    "## Text Cleaning\n",
    "\n",
    "We will keep the 29k+ abstracts dataset. This size being moderate we can add to the dataframe a \"clean\" and a \"tokens\" column with the clean string and the list of tokens respectively.\n",
    "\n",
    "We define our cleaning function following the steps:\n",
    "1. Lower case transformation\n",
    "2. Special characters removal\n",
    "3. Punctuation removal\n",
    "4. Tekenizing\n",
    "5. Stop words removal\n",
    "6. Lemmatization"
   ]
  },
  {
   "cell_type": "code",
   "execution_count": 4,
   "metadata": {},
   "outputs": [],
   "source": [
    "import nltk\n",
    "from nltk.corpus import stopwords\n",
    "from nltk import word_tokenize\n",
    "from nltk.stem import WordNetLemmatizer\n",
    "import stop_words\n",
    "import unidecode\n",
    "import string\n",
    "import re\n",
    "\n",
    "def preprocessing(texte, return_str=False):\n",
    "    tex = []\n",
    "   \n",
    "    # lower case\n",
    "    texte = unidecode.unidecode(texte.lower())\n",
    "   \n",
    "    # remove special characters\n",
    "    texte = re.sub(r'\\n', ' ', texte)\n",
    "    texte = re.sub(r'\\d+', '', texte)\n",
    "    \n",
    "    # remove punctuation\n",
    "    texte = texte.translate(str.maketrans('', '', string.punctuation))\n",
    "    \n",
    "    # remove whitespaces\n",
    "    texte = texte.strip()\n",
    "        \n",
    "    # tokenization\n",
    "    tokens = word_tokenize(texte)\n",
    "        \n",
    "    # define stop words\n",
    "    sw_1 = stop_words.get_stop_words('en')\n",
    "    sw_nltk = set(stopwords.words('english'))\n",
    "    sw = list(set(sw_1+list(sw_nltk)))\n",
    "    \n",
    "    # remove stop words and filster monoletters\n",
    "    tokens = [i for i in tokens if not i in sw and len(i) > 1]\n",
    "    \n",
    "    # lemmatization\n",
    "    lemmatizer = WordNetLemmatizer()\n",
    "    tokens = [lemmatizer.lemmatize(w) for w in tokens]\n",
    "    \n",
    "    if return_str:\n",
    "        return (\" \").join(tokens)\n",
    "    \n",
    "    return tokens"
   ]
  },
  {
   "cell_type": "markdown",
   "metadata": {},
   "source": [
    "We apply our cleaning function This step may take a few minutes."
   ]
  },
  {
   "cell_type": "code",
   "execution_count": 5,
   "metadata": {
    "scrolled": true
   },
   "outputs": [],
   "source": [
    "df[\"clean\"] = df.loc[:, 'abstract'].apply(lambda x: preprocessing(x, return_str=True))\n",
    "df[\"tokens\"] = df.loc[:, 'abstract'].apply(lambda x: preprocessing(x, return_str=False))"
   ]
  },
  {
   "cell_type": "code",
   "execution_count": 6,
   "metadata": {
    "scrolled": true
   },
   "outputs": [],
   "source": [
    "# We can save to csv eventually\n",
    "# df.to_csv(\"clean.csv\", index=False)"
   ]
  },
  {
   "cell_type": "code",
   "execution_count": 7,
   "metadata": {},
   "outputs": [
    {
     "data": {
      "text/html": [
       "<div>\n",
       "<style scoped>\n",
       "    .dataframe tbody tr th:only-of-type {\n",
       "        vertical-align: middle;\n",
       "    }\n",
       "\n",
       "    .dataframe tbody tr th {\n",
       "        vertical-align: top;\n",
       "    }\n",
       "\n",
       "    .dataframe thead th {\n",
       "        text-align: right;\n",
       "    }\n",
       "</style>\n",
       "<table border=\"1\" class=\"dataframe\">\n",
       "  <thead>\n",
       "    <tr style=\"text-align: right;\">\n",
       "      <th></th>\n",
       "      <th>pubmed_id</th>\n",
       "      <th>abstract</th>\n",
       "      <th>topic</th>\n",
       "      <th>clean</th>\n",
       "      <th>tokens</th>\n",
       "    </tr>\n",
       "  </thead>\n",
       "  <tbody>\n",
       "    <tr>\n",
       "      <th>0</th>\n",
       "      <td>7544188</td>\n",
       "      <td>\"Rebound\" phenomenon of hepatitis C viremia af...</td>\n",
       "      <td>Gene therapy</td>\n",
       "      <td>rebound phenomenon hepatitis viremia interfero...</td>\n",
       "      <td>[rebound, phenomenon, hepatitis, viremia, inte...</td>\n",
       "    </tr>\n",
       "    <tr>\n",
       "      <th>1</th>\n",
       "      <td>7543681</td>\n",
       "      <td>Probing the transmembrane topology of cyclic n...</td>\n",
       "      <td>Gene therapy</td>\n",
       "      <td>probing transmembrane topology cyclic nucleoti...</td>\n",
       "      <td>[probing, transmembrane, topology, cyclic, nuc...</td>\n",
       "    </tr>\n",
       "    <tr>\n",
       "      <th>2</th>\n",
       "      <td>7543632</td>\n",
       "      <td>Autolymphocyte therapy. III. Effective adjuvan...</td>\n",
       "      <td>Gene therapy</td>\n",
       "      <td>autolymphocyte therapy iii effective adjuvant ...</td>\n",
       "      <td>[autolymphocyte, therapy, iii, effective, adju...</td>\n",
       "    </tr>\n",
       "    <tr>\n",
       "      <th>3</th>\n",
       "      <td>7543577</td>\n",
       "      <td>Syntheses, calcium channel agonist-antagonist ...</td>\n",
       "      <td>Gene therapy</td>\n",
       "      <td>synthesis calcium channel agonistantagonist mo...</td>\n",
       "      <td>[synthesis, calcium, channel, agonistantagonis...</td>\n",
       "    </tr>\n",
       "    <tr>\n",
       "      <th>4</th>\n",
       "      <td>7543499</td>\n",
       "      <td>Unexpected dystonia while changing from clozap...</td>\n",
       "      <td>Gene therapy</td>\n",
       "      <td>unexpected dystonia changing clozapine risperi...</td>\n",
       "      <td>[unexpected, dystonia, changing, clozapine, ri...</td>\n",
       "    </tr>\n",
       "    <tr>\n",
       "      <th>...</th>\n",
       "      <td>...</td>\n",
       "      <td>...</td>\n",
       "      <td>...</td>\n",
       "      <td>...</td>\n",
       "      <td>...</td>\n",
       "    </tr>\n",
       "    <tr>\n",
       "      <th>29276</th>\n",
       "      <td>7107327</td>\n",
       "      <td>The cellular specificity of lectin binding in ...</td>\n",
       "      <td>Post-translational modification</td>\n",
       "      <td>cellular specificity lectin binding kidney lig...</td>\n",
       "      <td>[cellular, specificity, lectin, binding, kidne...</td>\n",
       "    </tr>\n",
       "    <tr>\n",
       "      <th>29277</th>\n",
       "      <td>7107225</td>\n",
       "      <td>Effect of tauroursodeoxycholic acid on patient...</td>\n",
       "      <td>Post-translational modification</td>\n",
       "      <td>effect tauroursodeoxycholic acid patient ileal...</td>\n",
       "      <td>[effect, tauroursodeoxycholic, acid, patient, ...</td>\n",
       "    </tr>\n",
       "    <tr>\n",
       "      <th>29278</th>\n",
       "      <td>7104049</td>\n",
       "      <td>The effect of various modifiers on rat microso...</td>\n",
       "      <td>Post-translational modification</td>\n",
       "      <td>effect various modifier rat microsomal peroxid...</td>\n",
       "      <td>[effect, various, modifier, rat, microsomal, p...</td>\n",
       "    </tr>\n",
       "    <tr>\n",
       "      <th>29279</th>\n",
       "      <td>7104039</td>\n",
       "      <td>Inhibition of methemoglobin and metmyoglobin r...</td>\n",
       "      <td>Post-translational modification</td>\n",
       "      <td>inhibition methemoglobin metmyoglobin reductio...</td>\n",
       "      <td>[inhibition, methemoglobin, metmyoglobin, redu...</td>\n",
       "    </tr>\n",
       "    <tr>\n",
       "      <th>29280</th>\n",
       "      <td>7102989</td>\n",
       "      <td>[Aneurysms of the cerebral vessels and pregnan...</td>\n",
       "      <td>Post-translational modification</td>\n",
       "      <td>aneurysm cerebral vessel pregnancy</td>\n",
       "      <td>[aneurysm, cerebral, vessel, pregnancy]</td>\n",
       "    </tr>\n",
       "  </tbody>\n",
       "</table>\n",
       "<p>29281 rows × 5 columns</p>\n",
       "</div>"
      ],
      "text/plain": [
       "       pubmed_id                                           abstract  \\\n",
       "0        7544188  \"Rebound\" phenomenon of hepatitis C viremia af...   \n",
       "1        7543681  Probing the transmembrane topology of cyclic n...   \n",
       "2        7543632  Autolymphocyte therapy. III. Effective adjuvan...   \n",
       "3        7543577  Syntheses, calcium channel agonist-antagonist ...   \n",
       "4        7543499  Unexpected dystonia while changing from clozap...   \n",
       "...          ...                                                ...   \n",
       "29276    7107327  The cellular specificity of lectin binding in ...   \n",
       "29277    7107225  Effect of tauroursodeoxycholic acid on patient...   \n",
       "29278    7104049  The effect of various modifiers on rat microso...   \n",
       "29279    7104039  Inhibition of methemoglobin and metmyoglobin r...   \n",
       "29280    7102989  [Aneurysms of the cerebral vessels and pregnan...   \n",
       "\n",
       "                                 topic  \\\n",
       "0                         Gene therapy   \n",
       "1                         Gene therapy   \n",
       "2                         Gene therapy   \n",
       "3                         Gene therapy   \n",
       "4                         Gene therapy   \n",
       "...                                ...   \n",
       "29276  Post-translational modification   \n",
       "29277  Post-translational modification   \n",
       "29278  Post-translational modification   \n",
       "29279  Post-translational modification   \n",
       "29280  Post-translational modification   \n",
       "\n",
       "                                                   clean  \\\n",
       "0      rebound phenomenon hepatitis viremia interfero...   \n",
       "1      probing transmembrane topology cyclic nucleoti...   \n",
       "2      autolymphocyte therapy iii effective adjuvant ...   \n",
       "3      synthesis calcium channel agonistantagonist mo...   \n",
       "4      unexpected dystonia changing clozapine risperi...   \n",
       "...                                                  ...   \n",
       "29276  cellular specificity lectin binding kidney lig...   \n",
       "29277  effect tauroursodeoxycholic acid patient ileal...   \n",
       "29278  effect various modifier rat microsomal peroxid...   \n",
       "29279  inhibition methemoglobin metmyoglobin reductio...   \n",
       "29280                 aneurysm cerebral vessel pregnancy   \n",
       "\n",
       "                                                  tokens  \n",
       "0      [rebound, phenomenon, hepatitis, viremia, inte...  \n",
       "1      [probing, transmembrane, topology, cyclic, nuc...  \n",
       "2      [autolymphocyte, therapy, iii, effective, adju...  \n",
       "3      [synthesis, calcium, channel, agonistantagonis...  \n",
       "4      [unexpected, dystonia, changing, clozapine, ri...  \n",
       "...                                                  ...  \n",
       "29276  [cellular, specificity, lectin, binding, kidne...  \n",
       "29277  [effect, tauroursodeoxycholic, acid, patient, ...  \n",
       "29278  [effect, various, modifier, rat, microsomal, p...  \n",
       "29279  [inhibition, methemoglobin, metmyoglobin, redu...  \n",
       "29280            [aneurysm, cerebral, vessel, pregnancy]  \n",
       "\n",
       "[29281 rows x 5 columns]"
      ]
     },
     "execution_count": 7,
     "metadata": {},
     "output_type": "execute_result"
    }
   ],
   "source": [
    "# Let's check the result\n",
    "df"
   ]
  },
  {
   "cell_type": "markdown",
   "metadata": {},
   "source": [
    "Keep a small fraction of the dataset for test"
   ]
  },
  {
   "cell_type": "code",
   "execution_count": 8,
   "metadata": {},
   "outputs": [
    {
     "name": "stdout",
     "output_type": "stream",
     "text": [
      "Dataframe sizes:\n",
      "df: 29281 \n",
      "train_df: 28980 \n",
      "test_df: 301\n"
     ]
    }
   ],
   "source": [
    "# create a mask of binary values\n",
    "mask = np.random.rand(len(df)) < 0.99\n",
    "# Apply mask\n",
    "train_df = df[mask].reset_index(drop=True)\n",
    "test_df = df[~mask].reset_index(drop=True)\n",
    "\n",
    "print(\"Dataframe sizes:\")\n",
    "print(\"df:\", len(df), \n",
    "      \"\\ntrain_df:\", len(train_df),\n",
    "      \"\\ntest_df:\", len(test_df))"
   ]
  },
  {
   "cell_type": "markdown",
   "metadata": {},
   "source": [
    "## LDA"
   ]
  },
  {
   "cell_type": "code",
   "execution_count": 9,
   "metadata": {},
   "outputs": [],
   "source": [
    "from time import time\n",
    "from gensim import models, corpora, similarities\n",
    "from gensim.corpora.mmcorpus import MmCorpus"
   ]
  },
  {
   "cell_type": "code",
   "execution_count": 10,
   "metadata": {},
   "outputs": [],
   "source": [
    "def train_lda(data, num_topics = 8, chunksize = 300):\n",
    "    \"\"\"\n",
    "    This function trains the lda model\n",
    "    We setup parameters like number of topics, the chunksize to use in Hoffman method\n",
    "    We also do 2 passes of the data since this is a small dataset, so we want the distributions to stabilize\n",
    "    \"\"\"\n",
    "    tokens = data[\"tokens\"]\n",
    "    dictionary = corpora.Dictionary(tokens)\n",
    "    corpus = [dictionary.doc2bow(doc) for doc in tokens]\n",
    "    t1 = time()\n",
    "    # low alpha: each document is only represented by a small number of topics, and vice versa\n",
    "    # low eta: each topic is only represented by a small number of words, and vice versa\n",
    "    lda = models.LdaModel(corpus=corpus, num_topics=num_topics, id2word=dictionary,\n",
    "                   alpha=1e-3, eta=0.5, chunksize=chunksize, minimum_probability=0.0, passes=2)\n",
    "    t2 = time()\n",
    "    print(\"Time to train LDA model on\", len(data), \"articles:\", (t2-t1)/60, \"min\")\n",
    "    return dictionary, corpus, lda"
   ]
  },
  {
   "cell_type": "code",
   "execution_count": 11,
   "metadata": {},
   "outputs": [
    {
     "name": "stdout",
     "output_type": "stream",
     "text": [
      "Time to train LDA model on 28980 articles: 2.3416532397270204 min\n"
     ]
    }
   ],
   "source": [
    "dictionary,corpus,lda = train_lda(train_df, num_topics = 8, chunksize = 500)"
   ]
  },
  {
   "cell_type": "markdown",
   "metadata": {},
   "source": [
    "Let's check and save our model, corpus and dictionary"
   ]
  },
  {
   "cell_type": "code",
   "execution_count": 12,
   "metadata": {},
   "outputs": [
    {
     "name": "stdout",
     "output_type": "stream",
     "text": [
      "corpus size: 28980\n",
      "dictionnary size: 78133\n"
     ]
    }
   ],
   "source": [
    "print(\"corpus size:\", len(corpus))\n",
    "print(\"dictionnary size:\", len(dictionary))"
   ]
  },
  {
   "cell_type": "code",
   "execution_count": 13,
   "metadata": {},
   "outputs": [],
   "source": [
    "# Uncomment to save:\n",
    "# lda.save('model/lda.model')\n",
    "# MmCorpus.save_corpus(\"model/corpus.mm\", corpus)\n",
    "# dictionary.save_as_text(\"model/dictionary.txt\")"
   ]
  },
  {
   "cell_type": "markdown",
   "metadata": {},
   "source": [
    "## Test model with Text Similarity \n",
    "\n",
    "Fisrt we define our helper functions to compute Jensen-Shannon distance"
   ]
  },
  {
   "cell_type": "code",
   "execution_count": 14,
   "metadata": {},
   "outputs": [],
   "source": [
    "# Needed libraries\n",
    "from scipy.stats import entropy\n",
    "from indra.literature.pubmed_client import get_metadata_for_ids\n",
    "\n",
    "# Functions\n",
    "def jensen_shannon(query, matrix):\n",
    "    \"\"\"\n",
    "    This function implements a Jensen-Shannon similarity\n",
    "    between the input query (an LDA topic distribution for a document)\n",
    "    and the entire corpus of topic distributions.\n",
    "    It returns an array of length M where M is the number of documents in the corpus\n",
    "    \"\"\"\n",
    "    # lets keep with the p,q notation above\n",
    "    p = query[None,:].T # take transpose\n",
    "    print(p.shape)\n",
    "    q = matrix.T # transpose matrix\n",
    "    m = 0.5*(p + q)\n",
    "    print(m.shape)\n",
    "    pp = np.repeat(query[None,:].T, repeats=matrix.shape[0], axis=1)\n",
    "    return np.sqrt(0.5*(entropy(pp,m) + entropy(q,m)))\n",
    "\n",
    "def get_most_similar_documents(query,matrix,k=10):\n",
    "    \"\"\"\n",
    "    This function implements the Jensen-Shannon distance above\n",
    "    and retruns the top k indices of the smallest jensen shannon distances\n",
    "    \"\"\"\n",
    "    sims = jensen_shannon(query,matrix) # list of jensen shannon distances\n",
    "    return sims.argsort()[:k] # the top k positional index of the smallest Jensen Shannon distances"
   ]
  },
  {
   "cell_type": "markdown",
   "metadata": {},
   "source": [
    "We take some text from the test dataframe"
   ]
  },
  {
   "cell_type": "code",
   "execution_count": 15,
   "metadata": {},
   "outputs": [
    {
     "name": "stdout",
     "output_type": "stream",
     "text": [
      "\n",
      "Topic: Gene therapy\n",
      "[Morphological and experimental studies of the autonomic ganglia of the head].  ...\n",
      "\n",
      "Topic: Post-translational modification\n",
      "[Pathoanatomical and pathohistological studies of cyclophosphamide-induced organ changes in calves with special reference to lymphatic organs].  ...\n",
      "\n",
      "Topic: Regulatory element\n",
      "Stamps commemorating medicine. \"The seeing eye dog\".  ...\n"
     ]
    }
   ],
   "source": [
    "# print some examples from test_df\n",
    "number = 3\n",
    "test_strings = []\n",
    "rand_idx = np.random.choice(len(test_df), size=number)\n",
    "text = test_df.iloc[rand_idx,1]\n",
    "for n in rand_idx:\n",
    "    print(\"\\nTopic:\", test_df.iloc[n,2])\n",
    "    test_strings.append(text[n])\n",
    "    print(text[n],\"...\")"
   ]
  },
  {
   "cell_type": "markdown",
   "metadata": {},
   "source": [
    "For JS distance calculation we need to calculate some of the variables for the test text:\n",
    "1. A new bag of words\n",
    "2. The new document distribution (towards each topic)\n",
    "3. The topic distance"
   ]
  },
  {
   "cell_type": "code",
   "execution_count": 16,
   "metadata": {},
   "outputs": [
    {
     "name": "stdout",
     "output_type": "stream",
     "text": [
      "Lenght of new bow: 6\n",
      "Size of new document distribution: (8,)\n",
      "Size JS distances array: (28980, 8)\n"
     ]
    }
   ],
   "source": [
    "# Let's propose text similarity using the 1st example from above\n",
    "string_to_test = test_strings[0]\n",
    "\n",
    "# New bag of words\n",
    "new_bow = dictionary.doc2bow(preprocessing(string_to_test, return_str=False))\n",
    "print(\"Lenght of new bow:\", len(new_bow))\n",
    "\n",
    "# New document distribution\n",
    "new_doc_distribution = np.array([tup[1] for tup in lda.get_document_topics(bow=new_bow)])\n",
    "print(\"Size of new document distribution:\", new_doc_distribution.shape)\n",
    "\n",
    "# New topic distance\n",
    "doc_topic_dist = np.array([[tup[1] for tup in lst] for lst in lda[corpus]])\n",
    "print(\"Size JS distances array:\", doc_topic_dist.shape)"
   ]
  },
  {
   "cell_type": "markdown",
   "metadata": {},
   "source": [
    "We can now compute JS distance and get the most similar Articles from our test dataset"
   ]
  },
  {
   "cell_type": "code",
   "execution_count": 17,
   "metadata": {
    "scrolled": true
   },
   "outputs": [
    {
     "name": "stdout",
     "output_type": "stream",
     "text": [
      "(8, 1)\n",
      "(8, 28980)\n",
      "Pubmed's most similar IDs [7477075, 7429050, 7307327, 7443036, 7241856, 7385144, 7460314, 7408280, 7284106, 7524781] \n",
      "\n",
      "7477075 \n",
      " Dehydroepiandrosterone sulphate (DHEAS) concentrations and amyotrophic lateral sclerosis. \n",
      "\n",
      "7429050 \n",
      " C.H.A. brief to Hall Review. \n",
      "\n",
      "7307327 \n",
      " Comparative effectiveness of topically applied non-steroid anti-inflammatory agents on guinea-pig skin. \n",
      "\n",
      "7443036 \n",
      " Role of catecholaminergic mechanisms of the brain in the fixation of temporary links. \n",
      "\n",
      "7241856 \n",
      " [Tubulo-glomerular feedback in the denervated rat kidney (author's transl)]. \n",
      "\n",
      "7385144 \n",
      " [Haloperidol-induced akathisia in the state of violence]. \n",
      "\n",
      "7460314 \n",
      " [Sexual dimorphism and synaptic plasticity in the neuroendocrine hypothalamus (author's transl)]. \n",
      "\n",
      "7408280 \n",
      " Altered taste thresholds in gastro-intestinal cancer. \n",
      "\n",
      "7284106 \n",
      " Vagal effects on heart rate in rabbit, A preliminary report. \n",
      "\n",
      "7524781 \n",
      " Degeneration activity: a transient effect following sympathectomy for hyperhidrosis. \n",
      "\n"
     ]
    }
   ],
   "source": [
    "# Compute JS distance and get most similar IDs\n",
    "most_sim_ids = get_most_similar_documents(new_doc_distribution,doc_topic_dist)\n",
    "\n",
    "# Get the list of corresponding most similar pubmed IDs\n",
    "most_sim_pm_ids = list(train_df.iloc[list(most_sim_ids),0].values)\n",
    "print(\"Pubmed's most similar IDs\", most_sim_pm_ids, \"\\n\")\n",
    "\n",
    "# Retrieve metadata by using pubmed API (indra module)\n",
    "most_sim_metadata = get_metadata_for_ids(most_sim_pm_ids)\n",
    "\n",
    "# Print the retrieved data for comparison\n",
    "for top, val in zip(most_sim_pm_ids, most_sim_metadata.values()):\n",
    "    print(top, \"\\n\", val[\"title\"], \"\\n\")"
   ]
  }
 ],
 "metadata": {
  "kernelspec": {
   "display_name": "Python 3",
   "language": "python",
   "name": "python3"
  },
  "language_info": {
   "codemirror_mode": {
    "name": "ipython",
    "version": 3
   },
   "file_extension": ".py",
   "mimetype": "text/x-python",
   "name": "python",
   "nbconvert_exporter": "python",
   "pygments_lexer": "ipython3",
   "version": "3.7.6"
  }
 },
 "nbformat": 4,
 "nbformat_minor": 4
}
